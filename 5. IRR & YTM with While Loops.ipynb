{
 "cells": [
  {
   "cell_type": "markdown",
   "metadata": {},
   "source": [
    "# Coding Exercises (Part 1)"
   ]
  },
  {
   "cell_type": "markdown",
   "metadata": {},
   "source": [
    "Now, you will have the opportunity to practice what you have learned. <br>\n",
    "__Follow the instructions__ and insert your code! "
   ]
  },
  {
   "cell_type": "markdown",
   "metadata": {},
   "source": [
    "The correct answer is provided below your coding cell. There you can check whether your code is correct."
   ]
  },
  {
   "cell_type": "markdown",
   "metadata": {},
   "source": [
    "If you need some help or if you want to check your code, you can also have a look at the __solutions__."
   ]
  },
  {
   "cell_type": "markdown",
   "metadata": {},
   "source": [
    "### Have Fun!"
   ]
  },
  {
   "cell_type": "markdown",
   "metadata": {},
   "source": [
    "--------------------------------------------------------------------------------------------------------------"
   ]
  },
  {
   "cell_type": "markdown",
   "metadata": {},
   "source": [
    "## Exercise 5: While Loops, Conditional Statements, IRR and YTM"
   ]
  },
  {
   "cell_type": "markdown",
   "metadata": {},
   "source": [
    "The ABC Company has a mature project with declining revenues and increasing costs. Net Cashflows are projected as follows:\n",
    "\n",
    "- 500 in year 1,\n",
    "- 350 in year 2, \n",
    "- 200 in year 3,\n",
    "- 50 in year 4,\n",
    "- -100 in year 5,\n",
    "- -200 in year 6"
   ]
  },
  {
   "cell_type": "markdown",
   "metadata": {},
   "source": [
    "1. Separate __positive__ and __negative__ cashflows. __Create two new lists__!"
   ]
  },
  {
   "cell_type": "code",
   "execution_count": 1,
   "metadata": {},
   "outputs": [],
   "source": [
    "#run the cell\n",
    "cf = [500, 350, 200, 50, -100, -200]"
   ]
  },
  {
   "cell_type": "code",
   "execution_count": 2,
   "metadata": {},
   "outputs": [
    {
     "name": "stdout",
     "output_type": "stream",
     "text": [
      "[500, 350, 200, 50]\n",
      "[-100, -200]\n"
     ]
    }
   ],
   "source": [
    "cf_pos =[]\n",
    "cf_neg =[]\n",
    "\n",
    "for i in cf: #complete the code!\n",
    "    if i > 0:\n",
    "        cf_pos.append(i)\n",
    "    elif i < 0:\n",
    "        cf_neg.append(i)\n",
    "print(cf_pos)\n",
    "print(cf_neg)"
   ]
  },
  {
   "cell_type": "markdown",
   "metadata": {},
   "source": [
    "2. Get the __first unprofitable year__. Your Code should return the statement __\"Year ... is the first unprofitable Year!\"__ "
   ]
  },
  {
   "cell_type": "code",
   "execution_count": 6,
   "metadata": {},
   "outputs": [
    {
     "name": "stdout",
     "output_type": "stream",
     "text": [
      "Year 5 is the first unprofitable year\n"
     ]
    }
   ],
   "source": [
    "n = 1\n",
    "for i in cf:\n",
    "    if i < 0:\n",
    "        print(\"Year {} is the first unprofitable year\".format(n))\n",
    "        break\n",
    "    n += 1"
   ]
  },
  {
   "cell_type": "markdown",
   "metadata": {},
   "source": [
    "3. Get the __last profitable year__. Your Code should return the statement __\"Year ... is the last profitable Year!\"__ "
   ]
  },
  {
   "cell_type": "code",
   "execution_count": 8,
   "metadata": {},
   "outputs": [
    {
     "name": "stdout",
     "output_type": "stream",
     "text": [
      "Year 4 is the last proftiable year\n"
     ]
    }
   ],
   "source": [
    "n = 1\n",
    "for i in cf:\n",
    "    if i < 0:\n",
    "        print(\"Year {} is the last proftiable year\".format(n -1))\n",
    "        break\n",
    "    n += 1"
   ]
  },
  {
   "cell_type": "markdown",
   "metadata": {},
   "source": [
    "The __modulo operator %__ returns the __remainder__ of the division between two numbers. For instance, 5 % 3 returns 2. "
   ]
  },
  {
   "cell_type": "code",
   "execution_count": 26,
   "metadata": {},
   "outputs": [
    {
     "data": {
      "text/plain": [
       "2"
      ]
     },
     "execution_count": 26,
     "metadata": {},
     "output_type": "execute_result"
    }
   ],
   "source": [
    "# run the cell\n",
    "5 % 3"
   ]
  },
  {
   "cell_type": "code",
   "execution_count": 27,
   "metadata": {},
   "outputs": [
    {
     "data": {
      "text/plain": [
       "4"
      ]
     },
     "execution_count": 27,
     "metadata": {},
     "output_type": "execute_result"
    }
   ],
   "source": [
    "# run the cell\n",
    "14 % 5"
   ]
  },
  {
   "cell_type": "markdown",
   "metadata": {},
   "source": [
    "If a is divisible by b __without remainder__, a % b __returns 0__. "
   ]
  },
  {
   "cell_type": "code",
   "execution_count": 28,
   "metadata": {},
   "outputs": [
    {
     "data": {
      "text/plain": [
       "0"
      ]
     },
     "execution_count": 28,
     "metadata": {},
     "output_type": "execute_result"
    }
   ],
   "source": [
    "# run the cell\n",
    "a = 9\n",
    "b = 3\n",
    "a % b"
   ]
  },
  {
   "cell_type": "markdown",
   "metadata": {},
   "source": [
    "4. Return the __first number n__ that is __divisible by 362 and 216__ (without remainder).<br>\n",
    "Your code shall return the following statement: __\"... is the first number divisible by 362 and 216!\"__"
   ]
  },
  {
   "cell_type": "code",
   "execution_count": 9,
   "metadata": {},
   "outputs": [
    {
     "name": "stdout",
     "output_type": "stream",
     "text": [
      "39096 is the first number divisible by 362 and 216!\n"
     ]
    }
   ],
   "source": [
    "a = 362\n",
    "b = 216\n",
    "\n",
    "n = 1 \n",
    "while True: #complete the code!\n",
    "    \n",
    "    if n % a == 0 and n % b == 0:\n",
    "        print(\"{} is the first number divisible by {} and {}!\".format(n, a, b))\n",
    "        break\n",
    "    n += 1"
   ]
  },
  {
   "cell_type": "markdown",
   "metadata": {},
   "source": [
    "(result: 39096)"
   ]
  },
  {
   "cell_type": "markdown",
   "metadata": {},
   "source": [
    "The ABC Company evaluates to buy an additional machine that will increase profits/cashflows by\n",
    "- 50 USD in year 1,\n",
    "- 75 USD in year 2 ,\n",
    "- 100 USD in year 3, \n",
    "- 150 USD in year 4,\n",
    "- 125 USD in year 5. (each cf at period´s end)\n",
    "\n",
    "The machine costs 450 USD (Investment in to). "
   ]
  },
  {
   "cell_type": "markdown",
   "metadata": {},
   "source": [
    "5. Calculate the __Project´s IRR__ and evaluate whether ABC should pursue the project. ABCs required rate of return is 6% p.a."
   ]
  },
  {
   "cell_type": "code",
   "execution_count": 16,
   "metadata": {},
   "outputs": [],
   "source": [
    "cf = [-450, 50, 75, 100, 150, 125]\n",
    "guess = 0.06"
   ]
  },
  {
   "cell_type": "code",
   "execution_count": 17,
   "metadata": {},
   "outputs": [
    {
     "name": "stdout",
     "output_type": "stream",
     "text": [
      "-0.0002819830025373449 0.03124499999997124\n"
     ]
    }
   ],
   "source": [
    "f = 1 + guess\n",
    "step = 0.000001\n",
    "target_npv = 0\n",
    "tolerance = 0.001\n",
    "npv = 0\n",
    "\n",
    "while True:\n",
    "    f = 1 + guess\n",
    "    npv = 0\n",
    "    for i in range(len(cf)):\n",
    "        npv += cf[i] / f**(i) #simple nvp calc\n",
    "    diff = npv - target_npv #diff shows how far the npv we're calcing is from the target npv (0)\n",
    "    \n",
    "    #iterates over the difference in npv to get the npv within the tolerance range\n",
    "    if abs(diff) > tolerance:\n",
    "        if diff < 0: #if difference is negative, then decrease the step - to get it in the tolerance range\n",
    "            guess -= step\n",
    "        elif diff > 0: #if difference is positive, then increase the step - to get it in the tolerance range\n",
    "            guess += step\n",
    "    else:\n",
    "        break\n",
    "\n",
    "print(npv, guess)"
   ]
  },
  {
   "cell_type": "markdown",
   "metadata": {},
   "source": [
    "(result: 3.12%)"
   ]
  },
  {
   "cell_type": "markdown",
   "metadata": {},
   "source": [
    "5. Would your __decision change__ if you can increse year 5 cashflows from __125 to 175__? "
   ]
  },
  {
   "cell_type": "code",
   "execution_count": 18,
   "metadata": {},
   "outputs": [],
   "source": [
    "cf[-1] = 175"
   ]
  },
  {
   "cell_type": "code",
   "execution_count": 19,
   "metadata": {
    "scrolled": true
   },
   "outputs": [
    {
     "name": "stdout",
     "output_type": "stream",
     "text": [
      "-0.0003708748203337109 0.058286999999998285\n"
     ]
    }
   ],
   "source": [
    "f = 1 + guess\n",
    "step = 0.000001\n",
    "target_npv = 0\n",
    "tolerance = 0.001\n",
    "npv = 0\n",
    "\n",
    "while True:\n",
    "    f = 1 + guess\n",
    "    npv = 0\n",
    "    for i in range(len(cf)):\n",
    "        npv += cf[i] / f**(i) #simple nvp calc\n",
    "    diff = npv - target_npv #diff shows how far the npv we're calcing is from the target npv (0)\n",
    "    \n",
    "    #iterates over the difference in npv to get the npv within the tolerance range\n",
    "    if abs(diff) > tolerance:\n",
    "        if diff < 0: #if difference is negative, then decrease the step - to get it in the tolerance range\n",
    "            guess -= step\n",
    "        elif diff > 0: #if difference is positive, then increase the step - to get it in the tolerance range\n",
    "            guess += step\n",
    "    else:\n",
    "        break\n",
    "\n",
    "print(npv, guess)"
   ]
  },
  {
   "cell_type": "markdown",
   "metadata": {},
   "source": [
    "(result: 5.83%)"
   ]
  },
  {
   "cell_type": "markdown",
   "metadata": {},
   "source": [
    "6. The ABC Government issued a 30Y Government Bond one year ago with a Coupon Rate of 5.5% (annual payments in arrears). Today´s Bond Price is 97.2 (per 100 par Value). Calculate the Bond´s __current YTM__."
   ]
  },
  {
   "cell_type": "code",
   "execution_count": 2,
   "metadata": {},
   "outputs": [
    {
     "data": {
      "text/plain": [
       "[-97.2,\n",
       " 5.5,\n",
       " 5.5,\n",
       " 5.5,\n",
       " 5.5,\n",
       " 5.5,\n",
       " 5.5,\n",
       " 5.5,\n",
       " 5.5,\n",
       " 5.5,\n",
       " 5.5,\n",
       " 5.5,\n",
       " 5.5,\n",
       " 5.5,\n",
       " 5.5,\n",
       " 5.5,\n",
       " 5.5,\n",
       " 5.5,\n",
       " 5.5,\n",
       " 5.5,\n",
       " 5.5,\n",
       " 5.5,\n",
       " 5.5,\n",
       " 5.5,\n",
       " 5.5,\n",
       " 5.5,\n",
       " 5.5,\n",
       " 5.5,\n",
       " 5.5,\n",
       " 105.5]"
      ]
     },
     "execution_count": 2,
     "metadata": {},
     "output_type": "execute_result"
    }
   ],
   "source": [
    "#add 20 payments to the string\n",
    "cf = [5.5] * 29\n",
    "\n",
    "#add the final repayment of the pricipal\n",
    "cf[-1] = cf[-1] + 100 \n",
    "\n",
    "#insert the price paid for the bond at t=0\n",
    "cf.insert(0, -97.2)\n",
    "\n",
    "#print the cashflows\n",
    "cf"
   ]
  },
  {
   "cell_type": "code",
   "execution_count": 5,
   "metadata": {},
   "outputs": [
    {
     "name": "stdout",
     "output_type": "stream",
     "text": [
      "-0.00023920511386066323 0.056995999999996994\n"
     ]
    }
   ],
   "source": [
    "guess = 0.06\n",
    "step = 0.000001\n",
    "target_npv = 0\n",
    "tolerance = 0.001\n",
    "\n",
    "while True:\n",
    "    f= 1 + guess\n",
    "    npv = 0\n",
    "    for i in range(len(cf)):\n",
    "        npv += cf[i] / f**(i)\n",
    "    diff = npv - target_npv\n",
    "        \n",
    "    #iterates over the difference in npv to get the npv within the tolerance range\n",
    "    if abs(diff) > tolerance:\n",
    "        if diff < 0: #if difference is negative, then decrease the step - to get it in the tolerance range\n",
    "            guess -= step\n",
    "        elif diff > 0: #if difference is positive, then increase the step - to get it in the tolerance range\n",
    "            guess += step\n",
    "    else:\n",
    "        break\n",
    "        \n",
    "print(npv, guess)"
   ]
  },
  {
   "cell_type": "code",
   "execution_count": null,
   "metadata": {},
   "outputs": [],
   "source": []
  },
  {
   "cell_type": "code",
   "execution_count": null,
   "metadata": {
    "scrolled": true
   },
   "outputs": [],
   "source": []
  },
  {
   "cell_type": "code",
   "execution_count": null,
   "metadata": {},
   "outputs": [],
   "source": [
    " "
   ]
  },
  {
   "cell_type": "markdown",
   "metadata": {},
   "source": [
    "(result: 5.70%)"
   ]
  },
  {
   "cell_type": "code",
   "execution_count": null,
   "metadata": {},
   "outputs": [],
   "source": []
  },
  {
   "cell_type": "markdown",
   "metadata": {},
   "source": [
    "# Well Done!"
   ]
  },
  {
   "cell_type": "markdown",
   "metadata": {},
   "source": [
    "---------------------------------------------------------------------------------------------------------------------"
   ]
  },
  {
   "cell_type": "markdown",
   "metadata": {},
   "source": [
    "# Solutions (Stop here if you want to code on your own!)"
   ]
  },
  {
   "cell_type": "markdown",
   "metadata": {},
   "source": [
    "# ++++++++++++++++++++++++++++++++++++++++++++++++++++++++++++++"
   ]
  },
  {
   "cell_type": "markdown",
   "metadata": {},
   "source": [
    "The ABC Company has a mature project with declining revenues and increasing costs. Net Cashflows are projected as follows:\n",
    "\n",
    "- 500 in year 1,\n",
    "- 350 in year 2, \n",
    "- 200 in year 3,\n",
    "- 50 in year 4,\n",
    "- -100 in year 5,\n",
    "- -200 in year 6"
   ]
  },
  {
   "cell_type": "markdown",
   "metadata": {},
   "source": [
    "1. Separate __positive__ and __negative__ cashflows. __Create two new lists__!"
   ]
  },
  {
   "cell_type": "code",
   "execution_count": null,
   "metadata": {},
   "outputs": [],
   "source": [
    "#run the cell\n",
    "cf = [500, 350, 200, 50, -100, -200]"
   ]
  },
  {
   "cell_type": "code",
   "execution_count": null,
   "metadata": {},
   "outputs": [],
   "source": [
    "cf_pos =[]\n",
    "cf_neg =[]\n",
    "\n",
    "for i in cf:\n",
    "    if i > 0:\n",
    "        cf_pos.append(i)\n",
    "    elif i < 0:\n",
    "        cf_neg.append(i)\n",
    "print(cf_pos, cf_neg)"
   ]
  },
  {
   "cell_type": "code",
   "execution_count": null,
   "metadata": {},
   "outputs": [],
   "source": []
  },
  {
   "cell_type": "markdown",
   "metadata": {},
   "source": [
    "2. Get the __first unprofitable year__. Your Code should return the statement __\"Year ... is the first unprofitable Year!\"__ "
   ]
  },
  {
   "cell_type": "code",
   "execution_count": null,
   "metadata": {},
   "outputs": [],
   "source": [
    "n = 1\n",
    "for i in cf:\n",
    "    if i < 0:\n",
    "        print(\"Year {} is the first unprofitable year!\".format(n))\n",
    "        break\n",
    "    n += 1"
   ]
  },
  {
   "cell_type": "markdown",
   "metadata": {},
   "source": [
    "3. Get the __last profitable year__. Your Code should return the statement __\"Year ... is the last profitable Year!\"__ "
   ]
  },
  {
   "cell_type": "code",
   "execution_count": null,
   "metadata": {},
   "outputs": [],
   "source": [
    "n = 1\n",
    "for i in cf:\n",
    "    if i < 0:\n",
    "        print(\"Year {} is the last profitable year!\".format(n - 1))\n",
    "        break\n",
    "    n += 1"
   ]
  },
  {
   "cell_type": "code",
   "execution_count": null,
   "metadata": {},
   "outputs": [],
   "source": []
  },
  {
   "cell_type": "markdown",
   "metadata": {},
   "source": [
    "The __modulo operator %__ returns the __remainder__ of the division between two numbers. For instance, 5 % 3 returns 2. "
   ]
  },
  {
   "cell_type": "code",
   "execution_count": null,
   "metadata": {},
   "outputs": [],
   "source": [
    "# run the cell\n",
    "5 % 3"
   ]
  },
  {
   "cell_type": "code",
   "execution_count": null,
   "metadata": {},
   "outputs": [],
   "source": [
    "# run the cell\n",
    "14 % 5"
   ]
  },
  {
   "cell_type": "markdown",
   "metadata": {},
   "source": [
    "If a is divisible by b __without remainder__, a % b __returns 0__. "
   ]
  },
  {
   "cell_type": "code",
   "execution_count": null,
   "metadata": {},
   "outputs": [],
   "source": [
    "# run the cell\n",
    "a = 9\n",
    "b = 3\n",
    "a % b"
   ]
  },
  {
   "cell_type": "markdown",
   "metadata": {},
   "source": [
    "4. Return the __first number n__ that is __divisible by 362 and 216__ (without remainder).<br>\n",
    "Your code shall return the following statement: __\"... is the first number divisible by 362 and 216!\"__"
   ]
  },
  {
   "cell_type": "code",
   "execution_count": null,
   "metadata": {},
   "outputs": [],
   "source": [
    "a = 362\n",
    "b = 216\n",
    "\n",
    "n = 1\n",
    "while True:\n",
    "    if (n%a == 0) and (n%b == 0):\n",
    "        print(\"{} is the first number divisible by {} and {}!\".format(n, a, b))\n",
    "        break\n",
    "    n+=1"
   ]
  },
  {
   "cell_type": "markdown",
   "metadata": {},
   "source": [
    "(result: 39096)"
   ]
  },
  {
   "cell_type": "code",
   "execution_count": null,
   "metadata": {},
   "outputs": [],
   "source": []
  },
  {
   "cell_type": "markdown",
   "metadata": {},
   "source": [
    "The ABC Company evaluates to buy an additional machine that will increase profits/cashflows by\n",
    "- 50 USD in year 1,\n",
    "- 75 USD in year 2 ,\n",
    "- 100 USD in year 3, \n",
    "- 150 USD in year 4,\n",
    "- 125 USD in year 5. (each cf at period´s end)\n",
    "\n",
    "The machine costs 450 USD (Investment in to). "
   ]
  },
  {
   "cell_type": "markdown",
   "metadata": {},
   "source": [
    "5. Calculate the __Project´s IRR__ and evaluate whether ABC should pursue the project. ABCs required rate of return is 6% p.a."
   ]
  },
  {
   "cell_type": "code",
   "execution_count": null,
   "metadata": {},
   "outputs": [],
   "source": [
    "cf = [-450, 50, 75, 100, 150, 125]"
   ]
  },
  {
   "cell_type": "code",
   "execution_count": null,
   "metadata": {},
   "outputs": [],
   "source": [
    "guess = 0.06\n",
    "step = 0.000001\n",
    "target_npv = 0\n",
    "tolerance = 0.001 \n",
    "\n",
    "while True:\n",
    "    f = 1 + guess\n",
    "    NPV = 0\n",
    "    for i in range(len(cf)):\n",
    "        NPV += cf[i] / f**(i)\n",
    "    diff = NPV - target_npv\n",
    "    \n",
    "    if abs(diff) > tolerance:\n",
    "        if diff < 0:\n",
    "            guess -= step\n",
    "        elif diff > 0:\n",
    "            guess += step\n",
    "    else:\n",
    "        break\n",
    "        \n",
    "print(NPV, guess) "
   ]
  },
  {
   "cell_type": "markdown",
   "metadata": {},
   "source": [
    "(result: 3.12% -> reject)"
   ]
  },
  {
   "cell_type": "code",
   "execution_count": null,
   "metadata": {},
   "outputs": [],
   "source": []
  },
  {
   "cell_type": "markdown",
   "metadata": {},
   "source": [
    "5. Would your __decision change__ if you can increse year 5 cashflows from __125 to 175__? "
   ]
  },
  {
   "cell_type": "code",
   "execution_count": null,
   "metadata": {},
   "outputs": [],
   "source": [
    "cf[-1] = 175"
   ]
  },
  {
   "cell_type": "code",
   "execution_count": null,
   "metadata": {
    "scrolled": true
   },
   "outputs": [],
   "source": [
    "guess = 0.06\n",
    "step = 0.0000001\n",
    "target_npv = 0\n",
    "tolerance = 0.001 \n",
    "\n",
    "while True:\n",
    "    f = 1 + guess\n",
    "    NPV = 0\n",
    "    for i in range(len(cf)):\n",
    "        NPV += cf[i] / f**(i)\n",
    "    diff = NPV - target_npv\n",
    "    \n",
    "    if abs(diff) > tolerance:\n",
    "        if diff < 0:\n",
    "            guess -= step\n",
    "        elif diff > 0:\n",
    "            guess += step\n",
    "    else:\n",
    "        break\n",
    "        \n",
    "print(NPV, guess) "
   ]
  },
  {
   "cell_type": "markdown",
   "metadata": {},
   "source": [
    "(result: 5.83% -> still reject)"
   ]
  },
  {
   "cell_type": "code",
   "execution_count": null,
   "metadata": {},
   "outputs": [],
   "source": []
  },
  {
   "cell_type": "markdown",
   "metadata": {},
   "source": [
    "6. The ABC Government issued a 30Y Government Bond one year ago with a Coupon Rate of 5.5% (annual payments in arrears). Today´s Bond Price is 97.2 (per 100 par Value). Calculate the Bond´s __current YTM__."
   ]
  },
  {
   "cell_type": "code",
   "execution_count": null,
   "metadata": {},
   "outputs": [],
   "source": [
    "cf = [5.5] * 29"
   ]
  },
  {
   "cell_type": "code",
   "execution_count": null,
   "metadata": {},
   "outputs": [],
   "source": [
    "cf[-1] = cf[-1] + 100"
   ]
  },
  {
   "cell_type": "code",
   "execution_count": null,
   "metadata": {},
   "outputs": [],
   "source": [
    "cf.insert(0, -97.2)"
   ]
  },
  {
   "cell_type": "code",
   "execution_count": null,
   "metadata": {
    "scrolled": true
   },
   "outputs": [],
   "source": [
    "cf"
   ]
  },
  {
   "cell_type": "code",
   "execution_count": null,
   "metadata": {},
   "outputs": [],
   "source": [
    "guess = 0.06\n",
    "step = 0.0000001\n",
    "target_npv = 0\n",
    "tolerance = 0.001 \n",
    "\n",
    "while True:\n",
    "    f = 1 + guess\n",
    "    NPV = 0\n",
    "    for i in range(len(cf)):\n",
    "        NPV += cf[i] / f**(i)\n",
    "    diff = NPV - target_npv\n",
    "    \n",
    "    if abs(diff) > tolerance:\n",
    "        if diff < 0:\n",
    "            guess -= step\n",
    "        elif diff > 0:\n",
    "            guess += step\n",
    "    else:\n",
    "        break\n",
    "        \n",
    "print(NPV, guess) "
   ]
  },
  {
   "cell_type": "markdown",
   "metadata": {},
   "source": [
    "(result: 5.70%)"
   ]
  },
  {
   "cell_type": "code",
   "execution_count": null,
   "metadata": {},
   "outputs": [],
   "source": []
  }
 ],
 "metadata": {
  "kernelspec": {
   "display_name": "Python 3 (ipykernel)",
   "language": "python",
   "name": "python3"
  },
  "language_info": {
   "codemirror_mode": {
    "name": "ipython",
    "version": 3
   },
   "file_extension": ".py",
   "mimetype": "text/x-python",
   "name": "python",
   "nbconvert_exporter": "python",
   "pygments_lexer": "ipython3",
   "version": "3.9.13"
  }
 },
 "nbformat": 4,
 "nbformat_minor": 2
}
